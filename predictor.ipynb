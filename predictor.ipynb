{
 "cells": [
  {
   "cell_type": "code",
   "execution_count": 118,
   "metadata": {},
   "outputs": [],
   "source": [
    "import pandas as pd"
   ]
  },
  {
   "cell_type": "code",
   "execution_count": 119,
   "metadata": {},
   "outputs": [],
   "source": [
    "path = \"Resources/charity_data.csv\""
   ]
  },
  {
   "cell_type": "code",
   "execution_count": 121,
   "metadata": {},
   "outputs": [],
   "source": [
    "# Reading .csv into dataframe\n",
    "df = pd.read_csv(path)"
   ]
  },
  {
   "cell_type": "code",
   "execution_count": 122,
   "metadata": {},
   "outputs": [],
   "source": [
    "# Drop no-use columns\n",
    "df2 = df.drop(columns = [\"EIN\", \"NAME\"])"
   ]
  },
  {
   "cell_type": "code",
   "execution_count": 132,
   "metadata": {},
   "outputs": [
    {
     "data": {
      "text/plain": [
       "APPLICATION_TYPE            17\n",
       "AFFILIATION                  6\n",
       "CLASSIFICATION              71\n",
       "USE_CASE                     5\n",
       "ORGANIZATION                 4\n",
       "STATUS                       2\n",
       "INCOME_AMT                   9\n",
       "SPECIAL_CONSIDERATIONS       2\n",
       "ASK_AMT                   8747\n",
       "IS_SUCCESSFUL                2\n",
       "asking_amount_binned        12\n",
       "dtype: int64"
      ]
     },
     "execution_count": 132,
     "metadata": {},
     "output_type": "execute_result"
    }
   ],
   "source": [
    "# Check Number of Unique Values in each column\n",
    "df2.nunique()"
   ]
  },
  {
   "cell_type": "code",
   "execution_count": 124,
   "metadata": {},
   "outputs": [
    {
     "data": {
      "text/plain": [
       "5k           25398\n",
       "10k-50k       2398\n",
       "100k-500k     2304\n",
       "50k-100k      1423\n",
       "500k-1M        650\n",
       "5k-10k         549\n",
       "1M-2M          485\n",
       "2M-5M          455\n",
       "10M-100M       311\n",
       "5M-10M         225\n",
       "100M-1T         83\n",
       "1T+             18\n",
       "Name: asking_amount_binned, dtype: int64"
      ]
     },
     "execution_count": 124,
     "metadata": {},
     "output_type": "execute_result"
    }
   ],
   "source": [
    "# Binnig asking amount and creating a new column\n",
    "bins = [0, 5000, 10000, 50000, 100000, 500000, 1000000, 2000000, 5000000, 10000000, 100000000, 1000000000, 10000000000]\n",
    "labels = [\"5k\", \"5k-10k\", \"10k-50k\", \"50k-100k\", \"100k-500k\", \"500k-1M\", \"1M-2M\", \"2M-5M\", \"5M-10M\", \"10M-100M\", \"100M-1T\", \"1T+\"]\n",
    "df2[\"asking_amount_binned\"] = pd.cut(df2[\"ASK_AMT\"], bins=bins, labels=labels)\n",
    "df2[\"asking_amount_binned\"].value_counts()"
   ]
  },
  {
   "cell_type": "code",
   "execution_count": 125,
   "metadata": {},
   "outputs": [
    {
     "data": {
      "text/plain": [
       "C1000    17326\n",
       "C2000     6074\n",
       "C1200     4837\n",
       "C3000     1918\n",
       "C2100     1883\n",
       "C7000      777\n",
       "Other      391\n",
       "C1700      287\n",
       "C4000      194\n",
       "C5000      116\n",
       "C1270      114\n",
       "C2700      104\n",
       "C2800       95\n",
       "C7100       75\n",
       "C1300       58\n",
       "C1280       50\n",
       "Name: CLASSIFICATION, dtype: int64"
      ]
     },
     "execution_count": 125,
     "metadata": {},
     "output_type": "execute_result"
    }
   ],
   "source": [
    "# Grouping classification values with less than 50 instances as \"Other\"\n",
    "df3 = df2[\"CLASSIFICATION\"].value_counts()\n",
    "df3 = df3.reset_index()\n",
    "df3 = df3[df3.CLASSIFICATION < 50]\n",
    "form_names = df3[\"index\"]\n",
    "form_names = list(form_names)\n",
    "df4 = df2.replace(form_names, \"Other\")\n",
    "df4[\"CLASSIFICATION\"].value_counts()"
   ]
  },
  {
   "cell_type": "code",
   "execution_count": 126,
   "metadata": {},
   "outputs": [
    {
     "data": {
      "text/plain": [
       "T3       27037\n",
       "T4        1542\n",
       "T6        1216\n",
       "T5        1173\n",
       "T19       1065\n",
       "T8         737\n",
       "T7         725\n",
       "T10        528\n",
       "T9         156\n",
       "Other      120\n",
       "Name: APPLICATION_TYPE, dtype: int64"
      ]
     },
     "execution_count": 126,
     "metadata": {},
     "output_type": "execute_result"
    }
   ],
   "source": [
    "# Grouping Application Type with less than 100 instances as other\n",
    "df5 = df2[\"APPLICATION_TYPE\"].value_counts()\n",
    "df5 = df5.reset_index()\n",
    "df5 = df5[df5.APPLICATION_TYPE < 100]\n",
    "app_names = df5[\"index\"]\n",
    "app_names = list(app_names)\n",
    "df6 = df4.replace(app_names, \"Other\")\n",
    "df6[\"APPLICATION_TYPE\"].value_counts()"
   ]
  },
  {
   "cell_type": "code",
   "execution_count": 133,
   "metadata": {},
   "outputs": [
    {
     "data": {
      "text/plain": [
       "APPLICATION_TYPE          10\n",
       "AFFILIATION                6\n",
       "CLASSIFICATION            16\n",
       "USE_CASE                   5\n",
       "ORGANIZATION               4\n",
       "STATUS                     2\n",
       "INCOME_AMT                 9\n",
       "SPECIAL_CONSIDERATIONS     2\n",
       "IS_SUCCESSFUL              2\n",
       "asking_amount_binned      12\n",
       "dtype: int64"
      ]
     },
     "execution_count": 133,
     "metadata": {},
     "output_type": "execute_result"
    }
   ],
   "source": [
    "# Dropping column already binned and verifying number of unique values for all columns in dataframe\n",
    "df6 = df6.drop(columns=[\"ASK_AMT\"])\n",
    "df6.nunique()"
   ]
  },
  {
   "cell_type": "code",
   "execution_count": null,
   "metadata": {},
   "outputs": [],
   "source": []
  }
 ],
 "metadata": {
  "language_info": {
   "name": "python"
  },
  "orig_nbformat": 4
 },
 "nbformat": 4,
 "nbformat_minor": 2
}
